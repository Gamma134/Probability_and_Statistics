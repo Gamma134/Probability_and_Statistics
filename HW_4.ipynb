{
 "cells": [
  {
   "cell_type": "markdown",
   "metadata": {},
   "source": [
    "### 1 Случайная непрерывная величина A имеет равномерное распределение на промежутке (200, 800]. Найдите ее среднее значение и дисперсию."
   ]
  },
  {
   "cell_type": "code",
   "execution_count": 5,
   "metadata": {},
   "outputs": [
    {
     "name": "stdout",
     "output_type": "stream",
     "text": [
      "Среднее значение: 500.0\n",
      " Дисперсия: 30000.0\n"
     ]
    }
   ],
   "source": [
    "# M(X) = (a + b) / 2\n",
    "# D(X) = (b - a)** 2 / 12\n",
    "a = 200\n",
    "b = 800\n",
    "\n",
    "print (f'Среднее значение: {(a + b) / 2}')\n",
    "print (f' Дисперсия: {(b - a) ** 2 / 12 }')"
   ]
  },
  {
   "cell_type": "markdown",
   "metadata": {},
   "source": [
    "### 2 О случайной непрерывной равномерно распределенной величине B известно, что ее дисперсия равна 0.2. Можно ли найти правую границу величины B и ее среднее значение зная, что левая граница равна 0.5? Если да, найдите ее."
   ]
  },
  {
   "cell_type": "code",
   "execution_count": 45,
   "metadata": {},
   "outputs": [],
   "source": [
    "# Да, но моя алгебра пока слабовата. Да стыдно :c\n",
    "# Используем формулу D(X) = (b - a) / 12\n",
    "# 0.2 = (b - 0.5) / 12 \n"
   ]
  },
  {
   "cell_type": "markdown",
   "metadata": {},
   "source": [
    "### 3 Непрерывная случайная величина X распределена нормально и задана плотностью распределения\n",
    "### f(x) = (1 / (4 * sqrt(2*pi))) * (exp(-((x+2)**2) / 32)) Найдите: а). M(X) б). D(X) в). std(X) (среднее квадратичное отклонение)"
   ]
  },
  {
   "cell_type": "code",
   "execution_count": 14,
   "metadata": {},
   "outputs": [
    {
     "name": "stdout",
     "output_type": "stream",
     "text": [
      "a.: M(X) = 2\n",
      "б.: DX = 16\n",
      "в.: std(X) = 4\n"
     ]
    }
   ],
   "source": [
    "print(f'a.: M(X) = 2')\n",
    "print(f'б.: DX = 16')\n",
    "print(f'в.: std(X) = 4')"
   ]
  },
  {
   "cell_type": "markdown",
   "metadata": {},
   "source": [
    "### 4 Рост взрослого населения города X имеет нормальное распределение. Причем, средний рост равен 174 см, а среднее квадратичное отклонение равно 8 см. Какова вероятность того, что случайным образом выбранный взрослый человек имеет рост: а). больше 182 см б). больше 190 см в). от 166 см до 190 см г). от 166 см до 182 см д). от 158 см до 190 см е). не выше 150 см или не ниже 190 см ё). не выше 150 см или не ниже 198 см ж). ниже 166 см."
   ]
  },
  {
   "cell_type": "code",
   "execution_count": 86,
   "metadata": {},
   "outputs": [
    {
     "name": "stdout",
     "output_type": "stream",
     "text": [
      "z: 1.0 = 0.8413\n",
      "Вероятность > 182см: 15.869999999999996\n"
     ]
    }
   ],
   "source": [
    "\n",
    "# mu = 174 'доделать, нужна таблица Z значений'\n",
    "# sig = 8 \n",
    "# X ~ N (174, 8)\n",
    "za = (182 - 174) / 8\n",
    "print(f'z: {za} = 0.8413')\n",
    "pa = 1 - 0.8413\n",
    "print(f'Вероятность > 182см: {pa * 100}')\n",
    "\n",
    "\n",
    "\n"
   ]
  },
  {
   "cell_type": "code",
   "execution_count": 87,
   "metadata": {},
   "outputs": [
    {
     "name": "stdout",
     "output_type": "stream",
     "text": [
      "z: 2.0 = 0.4773\n",
      "P(x > 190см): 52.269999999999996\n"
     ]
    }
   ],
   "source": [
    "\n",
    "zb = (190 - 174) / 8\n",
    "print(f'z: {zb} = 0.4773')\n",
    "pb = 1 - 0.4773\n",
    "print(f'P(x > 190см): {pb * 100}')\n",
    "\n"
   ]
  },
  {
   "cell_type": "code",
   "execution_count": 92,
   "metadata": {
    "scrolled": true
   },
   "outputs": [
    {
     "name": "stdout",
     "output_type": "stream",
     "text": [
      "z1: -1.0 = 0.1587\n",
      "z2: 2.0 = 0.4773\n",
      "0.3186\n"
     ]
    }
   ],
   "source": [
    "zv1 = (166 - 174) / 8\n",
    "zv2 = zb\n",
    "\n",
    "print(f'z1: {zv1} = 0.1587')\n",
    "print(f'z2: {zv2} = 0.4773')\n",
    "\n",
    "pv1 = 1 - 0.1587\n",
    "pv2 =  1 - 0.4773\n",
    "print(pv1 - pv2)\n"
   ]
  },
  {
   "cell_type": "code",
   "execution_count": 96,
   "metadata": {},
   "outputs": [
    {
     "name": "stdout",
     "output_type": "stream",
     "text": [
      "z1: -1.0 = 0.1587\n",
      "z2: 1.0 = 0.8413\n",
      "0.6826\n"
     ]
    },
    {
     "data": {
      "text/plain": [
       "0.6826"
      ]
     },
     "execution_count": 96,
     "metadata": {},
     "output_type": "execute_result"
    }
   ],
   "source": [
    "print(f'z1: {zv1} = 0.1587')\n",
    "print(f'z2: {za} = 0.8413')\n",
    "pg1 = 1 - 0.1587 \n",
    "pg2 = 1 - 0.8413\n",
    "\n",
    "pg1 = pg1 -pg2\n",
    "pg1"
   ]
  },
  {
   "cell_type": "code",
   "execution_count": 104,
   "metadata": {},
   "outputs": [
    {
     "name": "stdout",
     "output_type": "stream",
     "text": [
      " z1: -2.0 = 0.0228\n",
      " z2: 2.0 = 0.4773\n",
      "0.5226999999999999\n"
     ]
    }
   ],
   "source": [
    "zd = (158 - 174) / 8\n",
    "print(f' z1: {zd} = 0.0228')\n",
    "print(f' z2: {zb} = 0.4773')\n",
    "pd = (1 - 0.0228) - pb\n",
    "print(pb)\n",
    "\n"
   ]
  },
  {
   "cell_type": "code",
   "execution_count": 107,
   "metadata": {},
   "outputs": [
    {
     "name": "stdout",
     "output_type": "stream",
     "text": [
      " z1: -3.0 = 0.0014\n",
      " z2: 2.0 = 0.4773\n",
      "0.5240999999999999\n"
     ]
    }
   ],
   "source": [
    "ze1 = (150 - 174) / 8\n",
    "print(f' z1: {ze1} = 0.0014')\n",
    "print(f' z2: {zb} = 0.4773')\n",
    "pe1 = 0.0014\n",
    "pe2 = pb\n",
    "p = pe1 + pe2\n",
    "print(p)\n",
    "\n",
    "\n",
    "\n"
   ]
  },
  {
   "cell_type": "code",
   "execution_count": 111,
   "metadata": {},
   "outputs": [
    {
     "name": "stdout",
     "output_type": "stream",
     "text": [
      "3.0\n",
      "z1: -3.0 = 0.0014\n",
      "z2: 3.0 = 0.9986\n",
      "0.002799999999999957\n"
     ]
    }
   ],
   "source": [
    "zue2 = (198 - 174) / 8\n",
    "print(zue2)\n",
    "pue1 = 0.0014\n",
    "pue2 = 1 - 0.9986\n",
    "print(f'z1: {ze1} = 0.0014')\n",
    "print(f'z2: {zue2} = 0.9986')\n",
    "\n",
    "p = pue1 + pue2\n",
    "print(p)\n"
   ]
  },
  {
   "cell_type": "code",
   "execution_count": 112,
   "metadata": {},
   "outputs": [
    {
     "name": "stdout",
     "output_type": "stream",
     "text": [
      "z1: -0.875 = 0.1894\n",
      "0.1894\n"
     ]
    }
   ],
   "source": [
    "zzh = (166 - 173) / 8\n",
    "# два значения 0.1922 и 0.1894 (выбрал с округлением) или стоит брать среднее?\n",
    "print(f'z1: {zzh} = 0.1894')\n",
    "p = 0.1894\n",
    "print(p)\n"
   ]
  },
  {
   "cell_type": "markdown",
   "metadata": {},
   "source": [
    "### 5 На сколько сигм (средних квадратичных отклонений) отклоняется рост человека, равный 190 см, отматематического ожидания роста в популяции, в которой M(X) = 178 см и D(X) = 25 кв.см?"
   ]
  },
  {
   "cell_type": "code",
   "execution_count": 113,
   "metadata": {},
   "outputs": [
    {
     "data": {
      "text/plain": [
       "2.4"
      ]
     },
     "execution_count": 113,
     "metadata": {},
     "output_type": "execute_result"
    }
   ],
   "source": [
    "(190 - 178) / 5"
   ]
  },
  {
   "cell_type": "code",
   "execution_count": null,
   "metadata": {},
   "outputs": [],
   "source": []
  }
 ],
 "metadata": {
  "kernelspec": {
   "display_name": "Python 3",
   "language": "python",
   "name": "python3"
  },
  "language_info": {
   "codemirror_mode": {
    "name": "ipython",
    "version": 3
   },
   "file_extension": ".py",
   "mimetype": "text/x-python",
   "name": "python",
   "nbconvert_exporter": "python",
   "pygments_lexer": "ipython3",
   "version": "3.7.6"
  }
 },
 "nbformat": 4,
 "nbformat_minor": 4
}
