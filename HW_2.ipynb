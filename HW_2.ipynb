{
 "cells": [
  {
   "cell_type": "markdown",
   "metadata": {},
   "source": [
    "### Вероятность того, что стрелок попадет в мишень, выстрелив один раз, равна 0.8. Стрелок выстрелил 100 раз. Найдите вероятность того, что стрелок попадет в цель ровно 85 раз."
   ]
  },
  {
   "cell_type": "code",
   "execution_count": 46,
   "metadata": {},
   "outputs": [
    {
     "name": "stdout",
     "output_type": "stream",
     "text": [
      "Вероятность того, что стрелок попадет в цель ровно 85 раз: 0.048\n"
     ]
    }
   ],
   "source": [
    "from math import factorial, pow, e\n",
    "\n",
    "def comb(n, k):\n",
    "    return int(factorial(n) / (factorial(k) * (factorial(n-k))))\n",
    "\n",
    "      \n",
    "def ber(n, k, p, q):\n",
    "    return (factorial(n) / (factorial(k) * factorial(n - k))) * (p**k) * q**(n - k)\n",
    "\n",
    "# n = 100; k = 85; p = 0.8; q = 0.2\n",
    "print(f'Вероятность того, что стрелок попадет в цель ровно 85 раз: {round(ber(100, 85, 0.8, 0.2), 3)}')"
   ]
  },
  {
   "cell_type": "markdown",
   "metadata": {},
   "source": [
    "### Вероятность того, что лампочка перегорит в течение первого дня эксплуатации, равна 0.0004. В жилом комплексе после ремонта в один день включили 5000 новых лампочек. Какова вероятность, что ни одна из них не перегорит в первый день? Какова вероятность, что перегорят ровно две?"
   ]
  },
  {
   "cell_type": "code",
   "execution_count": 47,
   "metadata": {},
   "outputs": [
    {
     "name": "stdout",
     "output_type": "stream",
     "text": [
      "Вероятность, что перегорит ни одно не перегорит: 0.135\n",
      "Вероятность, что перегорит ровно 2: 0.271\n"
     ]
    }
   ],
   "source": [
    "def puason(n, m, p):\n",
    "    lam = p * n\n",
    "    return (lam**m / factorial(m)) * e**-lam\n",
    "\n",
    "\n",
    "print(f'Вероятность, что перегорит ни одно не перегорит: {round(puason(5000, 0, 0.0004), 3)}')\n",
    "print(f'Вероятность, что перегорит ровно 2: {round(puason(5000, 2, 0.0004), 3)}')\n"
   ]
  },
  {
   "cell_type": "markdown",
   "metadata": {},
   "source": [
    "### Монету подбросили 144 раза. Какова вероятность, что орел выпадет ровно 70 раз?"
   ]
  },
  {
   "cell_type": "code",
   "execution_count": 48,
   "metadata": {},
   "outputs": [
    {
     "name": "stdout",
     "output_type": "stream",
     "text": [
      "Вероятность, что орел выпадет ровно 70 раз: 0.06281178035144776\n"
     ]
    }
   ],
   "source": [
    "print(f'Вероятность, что орел выпадет ровно 70 раз: {ber(144, 70, 0.5, 0.5)}')\n"
   ]
  },
  {
   "cell_type": "markdown",
   "metadata": {},
   "source": [
    "### В первом ящике находится 10 мячей, из которых 7 - белые. Во втором ящике - 11 мячей, из которых 9 белых. Из каждого ящика вытаскивают случайным образом по два мяча. Какова вероятность того, что все мячи белые? Какова вероятность того, что ровно два мяча белые? Какова вероятность того, что хотя бы один мяч белый?"
   ]
  },
  {
   "cell_type": "code",
   "execution_count": 49,
   "metadata": {},
   "outputs": [
    {
     "name": "stdout",
     "output_type": "stream",
     "text": [
      "Вероятность того, что все мячи белые 0.5566666666666666\n"
     ]
    }
   ],
   "source": [
    "A1 = 1/2 * 7/10 + 1/2 * 9/11 #тут я запутался\n",
    "A2 = 1/2 * 6/9 + 1/2 * 8/10 \n",
    "\n",
    "print(f'Вероятность того, что все мячи белые {A1 * A2}')"
   ]
  }
 ],
 "metadata": {
  "kernelspec": {
   "display_name": "Python 3",
   "language": "python",
   "name": "python3"
  },
  "language_info": {
   "codemirror_mode": {
    "name": "ipython",
    "version": 3
   },
   "file_extension": ".py",
   "mimetype": "text/x-python",
   "name": "python",
   "nbconvert_exporter": "python",
   "pygments_lexer": "ipython3",
   "version": "3.7.6"
  }
 },
 "nbformat": 4,
 "nbformat_minor": 4
}
