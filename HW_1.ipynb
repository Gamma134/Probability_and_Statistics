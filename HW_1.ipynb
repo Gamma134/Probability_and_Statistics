{
 "cells": [
  {
   "cell_type": "markdown",
   "metadata": {},
   "source": [
    "### 1. Из колоды в 52 карты извлекаются случайным образом 4 карты. a) Найти вероятность того, что все карты – крести. б) Найти вероятность, что среди 4-х карт окажется хотя бы один туз."
   ]
  },
  {
   "cell_type": "code",
   "execution_count": 41,
   "metadata": {},
   "outputs": [
    {
     "name": "stdout",
     "output_type": "stream",
     "text": [
      "a. вероятность того, что все карты – крести: 0.26%\n",
      "\n",
      "b. вероятность, что среди 4-х карт окажется хотя бы один туз: 72.0%\n"
     ]
    }
   ],
   "source": [
    "from math import factorial\n",
    "\n",
    "def com(n, k):\n",
    "    return int(factorial(n) / (factorial(k) * factorial(n - k)))\n",
    "\n",
    "#a) Найти вероятность того, что все карты – крести.\n",
    "print(f'a. вероятность того, что все карты – крести: {round(com(13, 4) / com(52, 4) * 100, 2)}%')\n",
    "print()\n",
    "\n",
    "round(com(48,4)/com(52,4), 2)\n",
    "\n",
    "#б) Найти вероятность, что среди 4-х карт окажется хотя бы один туз.\n",
    "print(f'b. вероятность, что среди 4-х карт окажется хотя бы один туз: {round(com(48, 4) / com(52, 4), 2) * 100}%')\n"
   ]
  },
  {
   "cell_type": "markdown",
   "metadata": {},
   "source": [
    "### 2.На входной двери подъезда установлен кодовый замок, содержащий десять кнопок с цифрами от 0 до 9. Код содержит три цифры, которые нужно нажать одновременно. Какова вероятность того, что человек, не знающий код, откроет дверь с первой попытки?"
   ]
  },
  {
   "cell_type": "code",
   "execution_count": 44,
   "metadata": {},
   "outputs": [
    {
     "name": "stdout",
     "output_type": "stream",
     "text": [
      "Вероятность подобрать код с первой попытки 1.0%\n"
     ]
    }
   ],
   "source": [
    "print(f'Вероятность подобрать код с первой попытки {round(1/com(10, 3), 2) * 100}%')\n"
   ]
  },
  {
   "cell_type": "markdown",
   "metadata": {},
   "source": [
    "### 3. В ящике имеется 15 деталей, из которых 9 окрашены. Рабочий случайным образом извлекает 3 детали. Какова вероятность того, что все извлеченные детали окрашены?"
   ]
  },
  {
   "cell_type": "code",
   "execution_count": 45,
   "metadata": {},
   "outputs": [
    {
     "name": "stdout",
     "output_type": "stream",
     "text": [
      " вероятность того, что все извлеченные детали окрашены: 18.0%\n"
     ]
    }
   ],
   "source": [
    "print(f' вероятность того, что все извлеченные детали окрашены: {round(9/15 * 8/14 * 7/13, 2) * 100}%')"
   ]
  },
  {
   "cell_type": "markdown",
   "metadata": {},
   "source": [
    "### 4.В лотерее 100 билетов. Из них 2 выигрышных. Какова вероятность того, что 2 приобретенных билета окажутся выигрышными?"
   ]
  },
  {
   "cell_type": "code",
   "execution_count": 56,
   "metadata": {},
   "outputs": [
    {
     "name": "stdout",
     "output_type": "stream",
     "text": [
      " вероятность того, что 2 приобретенных билета окажутся выигрышными: 0.02%\n"
     ]
    }
   ],
   "source": [
    "print(f' вероятность того, что 2 приобретенных билета окажутся выигрышными: {round((com(2,2)/com(100, 2) * 100), 2)}%')\n"
   ]
  }
 ],
 "metadata": {
  "kernelspec": {
   "display_name": "Python 3",
   "language": "python",
   "name": "python3"
  },
  "language_info": {
   "codemirror_mode": {
    "name": "ipython",
    "version": 3
   },
   "file_extension": ".py",
   "mimetype": "text/x-python",
   "name": "python",
   "nbconvert_exporter": "python",
   "pygments_lexer": "ipython3",
   "version": "3.7.6"
  }
 },
 "nbformat": 4,
 "nbformat_minor": 4
}
