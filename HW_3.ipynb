{
 "cells": [
  {
   "cell_type": "markdown",
   "metadata": {},
   "source": [
    " ### 1.Даны значения зарплат из выборки выпускников: 100, 80, 75, 77, 89, 33, 45, 25, 65, 17, 30, 24, 57, 55, 70, 75, 65, 84, 90, 150. Посчитать (желательно без использования статистических методов наподобие std, var, mean) среднее арифметическое, среднее квадратичное отклонение, смещенную и несмещенную оценки дисперсий для данной выборки."
   ]
  },
  {
   "cell_type": "code",
   "execution_count": 72,
   "metadata": {},
   "outputs": [
    {
     "name": "stdout",
     "output_type": "stream",
     "text": [
      "Среднее арифметическое 65.3\n",
      "Среднее квадратичное 30.807628925316536\n",
      "Несмещенная оценка 949.1100000000001\n",
      "Смещенная оценка 950.11\n"
     ]
    }
   ],
   "source": [
    "import numpy as np\n",
    "\n",
    "sal = np.array([100, 80, 75, 77, 89, 33, 45, 25, 65, 17, 30, 24, 57, 55, 70, 75, 65, 84, 90, 150])\n",
    "\n",
    "\n",
    "\"Среднее арифметическое\"\n",
    "mean_ar = sum(sal) / len(sal)\n",
    "print(f'Среднее арифметическое {mean_ar}')\n",
    "\n",
    "\n",
    "\"Среднее квадратичное и Несмещенная оценка\"\n",
    "dif = 0\n",
    "for i in range(len(sal)):\n",
    "               dif += (sal[i] - mean_ar) ** 2\n",
    "S = np.sqrt((dif / len(sal) - 1))\n",
    "print(f'Среднее квадратичное {S}')\n",
    "print(f'Несмещенная оценка {S**2}')\n",
    "\n",
    "\n",
    "\"Смещенная оценка\"\n",
    "dif = 0\n",
    "for i in range(len(sal)):\n",
    "               dif += (sal[i] - mean_ar) ** 2\n",
    "SD = (dif / len(sal))\n",
    "print(f'Смещенная оценка {SD}')"
   ]
  },
  {
   "cell_type": "markdown",
   "metadata": {},
   "source": [
    "### 2. В первом ящике находится 8 мячей, из которых 5 - белые. Во втором ящике - 12 мячей, из которых 5 белых. Из первого ящика вытаскивают случайным образом два мяча, из второго - 4. Какова вероятность того, что 3 мяча белые?"
   ]
  },
  {
   "cell_type": "code",
   "execution_count": 83,
   "metadata": {},
   "outputs": [],
   "source": [
    "from math import factorial \n",
    "def comb(n, k):\n",
    "    return int(factorial(n) / (factorial(k) * factorial(n - k)))\n",
    "\n"
   ]
  },
  {
   "cell_type": "code",
   "execution_count": 125,
   "metadata": {},
   "outputs": [
    {
     "data": {
      "text/plain": [
       "0.3686868686868687"
      ]
     },
     "execution_count": 125,
     "metadata": {},
     "output_type": "execute_result"
    }
   ],
   "source": [
    "p1 = (comb(5, 2) / comb(8, 2)) * ((comb(5, 1) * comb(7, 3)) / comb(12, 4))\n",
    "p2 = ((comb(5, 1) * comb(3,1)) / comb(8, 2)) * ((comb(5, 2) * comb(7, 2) / comb(12,4)))\n",
    "p3 = (comb(3, 2) / comb(8, 2) * ((comb(5, 3) * comb(7, 1)) / comb(12, 4)))\n",
    "\n",
    "p = p1 + p2 + p3\n",
    "p"
   ]
  },
  {
   "cell_type": "markdown",
   "metadata": {},
   "source": [
    "### 3. На соревновании по биатлону один из трех спортсменов стреляет и попадает в мишень. Вероятность попадания для первого спортсмена равна 0.9, для второго — 0.8, для третьего — 0.6. Найти вероятность того, что выстрел произведен: a). первым спортсменом б). вторым спортсменом в). третьим спортсменом."
   ]
  },
  {
   "cell_type": "code",
   "execution_count": 150,
   "metadata": {},
   "outputs": [
    {
     "name": "stdout",
     "output_type": "stream",
     "text": [
      "a: 0.39\n",
      "б: 0.35\n",
      "в: 0.26\n"
     ]
    }
   ],
   "source": [
    "# Bn - вероятность попадания спортсменом n = 1/3 \n",
    "# P(A|B1) = 0.9\n",
    "# P(A|B2) = 0.8\n",
    "# P(A|B3) = 0.6\n",
    "\n",
    "PA = 1/3 * 0.9 + 1/3 * 0.8 + 1/3 * 0.6\n",
    "\n",
    "\n",
    "PB1A = (1/3 * 0.9) / PA\n",
    "PB2A = (1/3 * 0.8) / PA\n",
    "PB3A = (1/3 * 0.6) / PA\n",
    "\n",
    "print(f'a: {round(PB1A, 2)}')\n",
    "print(f'б: {round(PB2A, 2)}')\n",
    "print(f'в: {round(PB3A, 2)}')\n",
    "\n",
    "\n"
   ]
  },
  {
   "cell_type": "markdown",
   "metadata": {},
   "source": [
    "### 4. В университет на факультеты A и B поступило равное количество студентов, а на факультет C студентов поступило столько же, сколько на A и B вместе. Вероятность того, что студент факультета A сдаст первую сессию, равна 0.8. Для студента факультета B эта вероятность равна 0.7, а для студента факультета C - 0.9. Студент сдал первую сессию. Какова вероятность, что он учится: a). на факультете A б). на факультете B в). на факультете C?"
   ]
  },
  {
   "cell_type": "code",
   "execution_count": 153,
   "metadata": {},
   "outputs": [
    {
     "name": "stdout",
     "output_type": "stream",
     "text": [
      "a: 0.24\n",
      "б: 0.21\n",
      "в: 0.55\n"
     ]
    }
   ],
   "source": [
    "PA = 1/4 * 0.8 + 1/4 * 0.7 + 1/2 * 0.9\n",
    "PA\n",
    "\n",
    "PB1A = (1/4 * 0.8) / PA\n",
    "PB2A = (1/4 * 0.7) / PA\n",
    "PB3A = (1/2 * 0.9) / PA\n",
    "\n",
    "print(f'a: {round(PB1A, 2)}')\n",
    "print(f'б: {round(PB2A, 2)}')\n",
    "print(f'в: {round(PB3A, 2)}')"
   ]
  },
  {
   "cell_type": "markdown",
   "metadata": {},
   "source": [
    "### 5. Устройство состоит из трех деталей. Для первой детали вероятность выйти из строя в первый месяц равна 0.1, для второй - 0.2, для третьей - 0.25. Какова вероятность того, что в первый месяц выйдут из строя: а). все детали б). только две детали в). хотя бы одна деталь г). от одной до двух деталей?"
   ]
  },
  {
   "cell_type": "code",
   "execution_count": 158,
   "metadata": {},
   "outputs": [
    {
     "data": {
      "text/plain": [
       "0.1"
      ]
     },
     "execution_count": 158,
     "metadata": {},
     "output_type": "execute_result"
    }
   ],
   "source": [
    "PA = 0.1 * 1/3 + 0.2 * 1/3 + 0/25 * 1/3\n",
    "PA\n",
    "# дальше не знаю."
   ]
  }
 ],
 "metadata": {
  "kernelspec": {
   "display_name": "Python 3",
   "language": "python",
   "name": "python3"
  },
  "language_info": {
   "codemirror_mode": {
    "name": "ipython",
    "version": 3
   },
   "file_extension": ".py",
   "mimetype": "text/x-python",
   "name": "python",
   "nbconvert_exporter": "python",
   "pygments_lexer": "ipython3",
   "version": "3.7.6"
  }
 },
 "nbformat": 4,
 "nbformat_minor": 4
}
