{
 "cells": [
  {
   "cell_type": "markdown",
   "metadata": {},
   "source": [
    "### 1) \n",
    "Даны значения величины заработной платы заемщиков банка (zp) и значения их поведенческого кредитного скоринга (ks): \n",
    "zp = [35, 45, 190, 200, 40, 70, 54, 150, 120, 110],\n",
    "ks = [401, 574, 874, 919, 459, 739, 653, 902, 746, 832].\n",
    "Найдите ковариацию этих двух величин с помощью элементарных действий, а затем с помощью функции cov из numpy\n",
    "Полученные значения должны быть равны.\n",
    "Найдите коэффициент корреляции Пирсона с помощью ковариации и среднеквадратичных отклонений двух признаков,\n",
    "а затем с использованием функций из библиотек numpy и pandas."
   ]
  },
  {
   "cell_type": "code",
   "execution_count": 4,
   "metadata": {},
   "outputs": [
    {
     "name": "stdout",
     "output_type": "stream",
     "text": [
      " covarience = 9157.839999999997\n"
     ]
    }
   ],
   "source": [
    "import numpy as np\n",
    "\n",
    "zp = np.array([35, 45, 190, 200, 40, 70, 54, 150, 120, 110])\n",
    "ks = np.array([401, 574, 874, 919, 459, 739, 653, 902, 746, 832])\n",
    "\n",
    "cov = np.mean(zp * ks) - np.mean(zp) * np.mean(ks) #по элементам\n",
    "print(f' covarience = {cov}')"
   ]
  },
  {
   "cell_type": "code",
   "execution_count": 15,
   "metadata": {},
   "outputs": [
    {
     "data": {
      "text/plain": [
       "array([[ 3494.64,  9157.84],\n",
       "       [ 9157.84, 30468.89]])"
      ]
     },
     "execution_count": 15,
     "metadata": {},
     "output_type": "execute_result"
    }
   ],
   "source": [
    "np.cov(zp, ks, ddof = 0) # по формуле"
   ]
  },
  {
   "cell_type": "code",
   "execution_count": 12,
   "metadata": {},
   "outputs": [
    {
     "name": "stdout",
     "output_type": "stream",
     "text": [
      "сигма X: 59.115480206118605\n",
      "сигма Y: 174.55340157098058\n",
      "корреляция Пирсона: 0.8874395361899088\n"
     ]
    }
   ],
   "source": [
    "print(f'сигма X: {np.std(zp)}')\n",
    "print(f'сигма Y: {np.std(ks)}')\n",
    "\n",
    "cor_pirson = 9157.84 / (59.12 * 174.55) \n",
    "print(f'корреляция Пирсона: {cor_pirson}') "
   ]
  },
  {
   "cell_type": "markdown",
   "metadata": {},
   "source": [
    "### 2)\n",
    "Измерены значения IQ выборки студентов,\n",
    "обучающихся в местных технических вузах:\n",
    "131, 125, 115, 122, 131, 115, 107, 99, 125, 111.\n",
    "Известно, что в генеральной совокупности IQ распределен нормально.\n",
    "Найдите доверительный интервал для математического ожидания с надежностью 0.95."
   ]
  },
  {
   "cell_type": "code",
   "execution_count": 13,
   "metadata": {},
   "outputs": [
    {
     "name": "stdout",
     "output_type": "stream",
     "text": [
      "[-t: 195.31440576971895; t: 201.68559423028105]\n"
     ]
    }
   ],
   "source": [
    "x = np.array([202, 203, 199, 197, 195, 201, 200, 204, 194, 190])\n",
    "a = 0.5\n",
    "n = 10\n",
    "# v =  n - 1\n",
    "# t = 2.262\n",
    "# mu +/- t(a/2) * sig / sqrt(n)\n",
    "\n",
    "mu = np.mean(x)\n",
    "sig = np.std(x, ddof = 1)\n",
    "\n",
    "s = mu + 2.262 * sig / np.sqrt(n)\n",
    "f = mu - 2.262 * sig / np.sqrt(n)\n",
    "print(f'[-t: {f}; t: {s}]')"
   ]
  },
  {
   "cell_type": "markdown",
   "metadata": {},
   "source": [
    "### 3)\n",
    "Известно, что рост футболистов в сборной распределен нормально\n",
    "с дисперсией генеральной совокупности, равной 25 кв.см. Объем выборки равен 27,\n",
    "среднее выборочное составляет 174.2. Найдите доверительный интервал для математического\n",
    "ожидания с надежностью 0.95.\n"
   ]
  },
  {
   "cell_type": "code",
   "execution_count": 15,
   "metadata": {},
   "outputs": [
    {
     "name": "stdout",
     "output_type": "stream",
     "text": [
      " начало: [172.31398912064722; конец: 176.08601087935276]\n"
     ]
    }
   ],
   "source": [
    "var = 25\n",
    "n = 27\n",
    "mu = 174.2\n",
    "a = 0.5 \n",
    "z = 1.96\n",
    "\n",
    "s = 174.2 + 1.96 * np.sqrt(var) / np.sqrt(n)\n",
    "f = 174.2 - 1.96 * np.sqrt(var) / np.sqrt(n)\n",
    "\n",
    "print(f' начало: [{f}; конец: {s}]')"
   ]
  }
 ],
 "metadata": {
  "kernelspec": {
   "display_name": "Python 3",
   "language": "python",
   "name": "python3"
  },
  "language_info": {
   "codemirror_mode": {
    "name": "ipython",
    "version": 3
   },
   "file_extension": ".py",
   "mimetype": "text/x-python",
   "name": "python",
   "nbconvert_exporter": "python",
   "pygments_lexer": "ipython3",
   "version": "3.7.6"
  }
 },
 "nbformat": 4,
 "nbformat_minor": 4
}
